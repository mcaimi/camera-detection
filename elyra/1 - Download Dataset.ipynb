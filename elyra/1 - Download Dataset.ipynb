{
 "cells": [
  {
   "cell_type": "markdown",
   "id": "460414e6-cca9-4e9a-843c-b767886a3c55",
   "metadata": {},
   "source": [
    "# STAGE I - Download public Dataset"
   ]
  },
  {
   "cell_type": "code",
   "execution_count": null,
   "id": "53665553-a686-4bb4-b3b5-77efe7fcb262",
   "metadata": {},
   "outputs": [],
   "source": [
    "%pip install -q kagglehub python-dotenv\n",
    "%pip list | awk '/kagglehub|dotenv/ {print $1}'"
   ]
  },
  {
   "cell_type": "code",
   "execution_count": null,
   "id": "1ac71391-b218-431a-a79f-6c1ea1a116b3",
   "metadata": {},
   "outputs": [],
   "source": [
    "# import libs\n",
    "import os\n",
    "try:\n",
    "    import kagglehub\n",
    "except Exception as e:\n",
    "    print(f\"Caught exception {e}\")"
   ]
  },
  {
   "cell_type": "code",
   "execution_count": null,
   "id": "30bdb08e",
   "metadata": {},
   "outputs": [],
   "source": [
    "# Check environment\n",
    "KG_USER = os.getenv('KAGGLE_USERNAME')\n",
    "KG_PASS = os.getenv('KAGGLE_KEY')\n",
    "KG_PATH = os.getenv('KAGGLEHUB_CACHE')\n",
    "\n",
    "print(f\"Connecting to Kaggle as {KG_USER} with API Key {KG_PASS}, save artifacts to {KG_PATH}\")"
   ]
  },
  {
   "cell_type": "code",
   "execution_count": null,
   "id": "067827ef",
   "metadata": {},
   "outputs": [],
   "source": [
    "# download dataset from kaggle now\n",
    "DATASET_NAME: str = \"muki2003/yolo-drone-detection-dataset\"\n",
    "TRAINING_DATASET_PATH: str = KG_PATH\n",
    "\n",
    "# get the dataset\n",
    "print(f\"Dataset '{DATASET_NAME}' will be downloaded to {TRAINING_DATASET_PATH}\")\n",
    "dspath: str = kagglehub.dataset_download(DATASET_NAME)\n",
    "print(f\"Dataset available @{dspath}\")\n",
    "\n",
    "# save dataset path\n",
    "with open(f\"{TRAINING_DATASET_PATH}/kaggle-path.txt\", \"w\") as fout:\n",
    "    fout.write(f\"{dspath}\")"
   ]
  },
  {
   "cell_type": "code",
   "execution_count": null,
   "id": "25950f8f-9361-4af7-abdf-92305d2e2e64",
   "metadata": {},
   "outputs": [],
   "source": [
    "# show downloaded data\n",
    "print(f\"Downloaded {DATASET_NAME} under {TRAINING_DATASET_PATH}\")\n",
    "print(f\"Kaggle User: {KG_USER}\")\n",
    "!ls -lr $KAGGLEHUB_CACHE"
   ]
  }
 ],
 "metadata": {
  "kernelspec": {
   "display_name": "Python 3.11",
   "language": "python",
   "name": "python3"
  },
  "language_info": {
   "codemirror_mode": {
    "name": "ipython",
    "version": 3
   },
   "file_extension": ".py",
   "mimetype": "text/x-python",
   "name": "python",
   "nbconvert_exporter": "python",
   "pygments_lexer": "ipython3",
   "version": "3.11.11"
  }
 },
 "nbformat": 4,
 "nbformat_minor": 5
}
