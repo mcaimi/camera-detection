{
 "cells": [
  {
   "cell_type": "markdown",
   "id": "8472b053-fcb0-4aed-b36c-9a72fe4e48f4",
   "metadata": {},
   "source": [
    "# STAGE II - Download Checkpoint from Hugging Face"
   ]
  },
  {
   "cell_type": "code",
   "execution_count": null,
   "id": "6563e7d2-a2be-4126-bc95-a5e97300de91",
   "metadata": {},
   "outputs": [],
   "source": [
    "%pip install -q huggingface huggingface_hub"
   ]
  },
  {
   "cell_type": "code",
   "execution_count": null,
   "id": "62063811-aac6-4b8a-adb4-5173aea43371",
   "metadata": {},
   "outputs": [],
   "source": [
    "try:\n",
    "    import os\n",
    "    import huggingface_hub as hf\n",
    "except Exception as e:\n",
    "    print(f\"Cannot load pytorch: {e}\")"
   ]
  },
  {
   "cell_type": "code",
   "execution_count": null,
   "id": "7c8fa45e-12a2-4195-aed1-2c642cdeb9de",
   "metadata": {
    "colab": {
     "base_uri": "https://localhost:8080/"
    },
    "id": "Rxg0y5MBudmd",
    "outputId": "1c67fe1f-5652-439c-abae-920824533765",
    "tags": []
   },
   "outputs": [],
   "source": [
    "# setup working environment\n",
    "ULTRALYTICS_DIR: str = os.environ.get('ULTRALYTICS_DIR')\n",
    "CACHE_DIR = \"/\".join((ULTRALYTICS_DIR, \"cache\"))\n",
    "os.makedirs(CACHE_DIR, exist_ok=True)\n",
    "CHECKPOINT_NAME: str = os.environ.get(\"YOLO_CHECKPOINT\")\n",
    "HF_TOKEN: str = os.environ.get(\"HF_TOKEN\")"
   ]
  },
  {
   "cell_type": "code",
   "execution_count": null,
   "id": "dbfd7f31-a401-4793-ac67-60402e0226a2",
   "metadata": {},
   "outputs": [],
   "source": [
    "# download a checkpoint from HuggingFace\n",
    "print(f\"Downloading model checkpoint: {CHECKPOINT_NAME}\")\n",
    "model_path = hf.snapshot_download(repo_id=CHECKPOINT_NAME,\n",
    "                                  token=HF_TOKEN,\n",
    "                                  local_dir=ULTRALYTICS_DIR,\n",
    "                                  cache_dir=CACHE_DIR\n",
    "                                 )\n",
    "print(f\"Downloaded model checkpoint {model_path}\")"
   ]
  }
 ],
 "metadata": {
  "kernelspec": {
   "display_name": "Python 3.11",
   "language": "python",
   "name": "python3"
  },
  "language_info": {
   "codemirror_mode": {
    "name": "ipython",
    "version": 3
   },
   "file_extension": ".py",
   "mimetype": "text/x-python",
   "name": "python",
   "nbconvert_exporter": "python",
   "pygments_lexer": "ipython3",
   "version": "3.11.11"
  }
 },
 "nbformat": 4,
 "nbformat_minor": 5
}
