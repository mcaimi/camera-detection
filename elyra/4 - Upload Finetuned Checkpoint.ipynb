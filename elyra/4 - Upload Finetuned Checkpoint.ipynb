{
 "cells": [
  {
   "cell_type": "markdown",
   "id": "ddb5525c-6d2a-46f6-a810-3cbdecbcd3a4",
   "metadata": {},
   "source": [
    "# STAGE IV - Upload Trained Model to Model Registry\n",
    "\n",
    "The model has been trained on the new dataset. It is now time to upload the resulting checkpoint to the Model Registry for deployment"
   ]
  },
  {
   "cell_type": "code",
   "execution_count": null,
   "id": "02e73ea4-9138-4915-ae67-36923572891e",
   "metadata": {},
   "outputs": [],
   "source": [
    "%pip -q install -U pip\n",
    "%pip -q install model-registry boto3"
   ]
  },
  {
   "cell_type": "code",
   "execution_count": null,
   "id": "6452024c-5312-4811-b32b-ce34c6ef8bc0",
   "metadata": {},
   "outputs": [],
   "source": [
    "from model_registry import ModelRegistry\n",
    "from model_registry.utils import S3Params\n",
    "from model_registry.exceptions import StoreError\n",
    "import os"
   ]
  },
  {
   "cell_type": "code",
   "execution_count": null,
   "id": "27f97469-a3b3-4e6d-b608-047328bae73e",
   "metadata": {},
   "outputs": [],
   "source": [
    "# declare global setting variables\n",
    "PERSISTENCE_DIR: str = os.environ.get('PERSISTENCE_DIR')\n",
    "CHECKPOINT_NAME: str = os.environ.get(\"YOLO_CHECKPOINT\")\n",
    "USER: str = os.environ.get(\"USERNAME\")\n",
    "CLUSTER_DOMAIN: str = os.environ.get(\"CLUSTER_DOMAIN\")\n",
    "VERSION: str = os.environ.get(\"VERSION\")\n",
    "BUCKET: str = os.environ.get(\"BUCKET\")\n",
    "MODEL_NAME: str = os.environ.get(\"MODEL_NAME\")\n",
    "JOB = os.environ.get(\"JOB_TYPE\", \"detect\")\n",
    "RUN_NAME = os.environ.get(\"JOB_NAME\", \"train\")"
   ]
  },
  {
   "cell_type": "code",
   "execution_count": null,
   "id": "264ebd0c-74a4-4cac-bbab-de8856aba47d",
   "metadata": {},
   "outputs": [],
   "source": [
    "# load results\n",
    "from pathlib import PosixPath\n",
    "results_path: str = max(PosixPath(f\"{PERSISTENCE_DIR}/runs/{JOB}/\").glob(\"train*\"), key=os.path.getmtime)\n",
    "\n",
    "print(f\"Latest training output at: {results_path}\")\n",
    "\n",
    "# make sure checkpoint exists\n",
    "latest_checkpoint: str = f\"{results_path}/weights/best.onnx\"\n",
    "\n",
    "# validate\n",
    "if not os.path.exists(latest_checkpoint):\n",
    "    raise Exception(f\"Checkpoint {latest_checkpoint} not found in filesystem\")"
   ]
  },
  {
   "cell_type": "code",
   "execution_count": null,
   "id": "0ab51e0d-cd3e-40b2-aadf-08503ff4bf6e",
   "metadata": {},
   "outputs": [],
   "source": [
    "# Set up the model registry connection\n",
    "model_registry_url = f\"https://registry-rest.{CLUSTER_DOMAIN}\"\n",
    "author_name = USER\n",
    "\n",
    "print(model_registry_url)\n",
    "\n",
    "registry = ModelRegistry(server_address=model_registry_url, port=443, author=author_name, is_secure=False)"
   ]
  },
  {
   "cell_type": "code",
   "execution_count": null,
   "id": "f725c559-afb2-4e65-b819-cad3c44801e1",
   "metadata": {},
   "outputs": [],
   "source": [
    "# Model details we want to register\n",
    "registered_model_name = MODEL_NAME\n",
    "s3_model_bucket = BUCKET\n",
    "s3_model_prefix = f\"{s3_model_bucket}/{registered_model_name}\"\n",
    "version = \"1\"\n",
    "onnx_model = f\"{latest_checkpoint}\"\n",
    "\n",
    "AWS_S3_ENDPOINT = os.environ.get('AWS_S3_ENDPOINT')\n",
    "AWS_ACCESS_KEY_ID = os.environ.get('AWS_ACCESS_KEY_ID')\n",
    "AWS_SECRET_ACCESS_KEY = os.environ.get('AWS_SECRET_ACCESS_KEY')\n",
    "AWS_S3_BUCKET = os.environ.get('AWS_S3_BUCKET')\n",
    "AWS_DEFAULT_REGION = os.environ.get('AWS_DEFAULT_REGION')\n",
    "\n",
    "# remote S3 paths\n",
    "s3_region = AWS_DEFAULT_REGION\n",
    "s3_onnx = f\"{s3_model_prefix}/onnx/{registered_model_name}\"\n",
    "minio_endpoint = f\"https://minio-s3-s3-minio-dev.{CLUSTER_DOMAIN}\""
   ]
  },
  {
   "cell_type": "code",
   "execution_count": null,
   "id": "84c93840-7182-4b5b-b566-940d7ad858d9",
   "metadata": {},
   "outputs": [],
   "source": [
    "# upload parameters for s3 connections\n",
    "s3_upload_params_onnx = S3Params(\n",
    "    bucket_name=os.environ.get('AWS_S3_BUCKET'),\n",
    "    s3_prefix=f\"{s3_onnx}/{version}\",\n",
    ")"
   ]
  },
  {
   "cell_type": "code",
   "execution_count": null,
   "id": "749730c6-3ff3-488f-982f-cd6a7d3ecc41",
   "metadata": {},
   "outputs": [],
   "source": [
    "# artifact update function\n",
    "def update_artifact(model_name, model_version, new_uri, storage_path):\n",
    "    artifact = registry.get_model_artifact(model_name, model_version)\n",
    "    print(f\"Got Artifact {artifact.name} with ID: {artifact.id}\\n Current URI: {artifact.uri}\\n Updating with URI: {new_uri}\\n Current StoragePath: {artifact.storage_path}\")\n",
    "    artifact.uri = new_uri\n",
    "    artifact.storage_path = storage_path\n",
    "    registry.update(artifact)"
   ]
  },
  {
   "cell_type": "code",
   "execution_count": null,
   "id": "dd508dbb-ff7b-452b-b39d-f0a94a081840",
   "metadata": {},
   "outputs": [],
   "source": [
    "# upload function\n",
    "def register(model_name, data_path,\n",
    "             model_format_name, author, model_format_version,\n",
    "             model_version, storage_path, description,\n",
    "             metadata, upload_parms):\n",
    "    try:\n",
    "        # register onnx model\n",
    "        registered_model = registry.upload_artifact_and_register_model(\n",
    "            name=model_name,\n",
    "            model_files_path=data_path,\n",
    "            model_format_name=model_format_name,\n",
    "            author=author,\n",
    "            model_format_version=model_format_version,\n",
    "            version=model_version,\n",
    "            storage_path=storage_path,\n",
    "            description=description,\n",
    "            metadata=metadata,\n",
    "            upload_params=upload_parms\n",
    "        )\n",
    "        print(f\"'{model_name}' version '{model_version}'\\n URL: https://rhods-dashboard-redhat-ods-applications.{CLUSTER_DOMAIN}/modelRegistry/registry/registeredModels/1/versions/{registry.get_model_version(model_name, model_version).id}/details\")\n",
    "    except StoreError:\n",
    "        stored_version = registry.get_model_version(registered_model_name, f\"{version}-onnx\")\n",
    "        print(f\"Model version {stored_version.name}-{stored_version.id} already exists: Updating URI...\")\n",
    "        new_uri = f\"s3://{storage_path}?endpoint={minio_endpoint}&defaultRegion={s3_region}\"\n",
    "        update_artifact(model_name, model_version, new_uri, storage_path)"
   ]
  },
  {
   "cell_type": "code",
   "execution_count": null,
   "id": "655f3e5f-afd8-4d05-9620-c79f7a681d4e",
   "metadata": {},
   "outputs": [],
   "source": [
    "# data to register in the model registry\n",
    "models = [\n",
    "    {\n",
    "        \"model_name\": registered_model_name,\n",
    "        \"data_path\": onnx_model,\n",
    "        \"author\": USER,\n",
    "        \"model_format_name\": \"onnx\",\n",
    "        \"model_format_version\": VERSION,\n",
    "        \"model_version\": f\"{version}-onnx\",\n",
    "        \"storage_path\": f\"{s3_model_bucket}/{s3_onnx}\",\n",
    "        \"description\": \"Dense Neural Network trained on music data (ONNX)\",\n",
    "        \"metadata\": {\n",
    "                    \"license\": \"apache-2.0\"\n",
    "                },\n",
    "        \"upload_parms\": s3_upload_params_onnx\n",
    "    }\n",
    "]"
   ]
  },
  {
   "cell_type": "code",
   "execution_count": null,
   "id": "3fcf6d1d-9466-43e5-b313-b6e5bce6731a",
   "metadata": {},
   "outputs": [],
   "source": [
    "# register models\n",
    "for model in models:\n",
    "    print(f\"Registering: {model.get('model_version')}...\")\n",
    "    register(model_name=model.get('model_name'),\n",
    "             data_path=model.get('data_path'),\n",
    "             model_format_name=model.get('model_format_name'),\n",
    "             author=model.get('author'),\n",
    "             model_format_version=model.get('model_format_version'),\n",
    "             model_version=model.get('model_version'),\n",
    "             storage_path=model.get('storage_path'),\n",
    "             description=model.get('description'),\n",
    "             metadata=model.get('metadata'),\n",
    "             upload_parms=model.get('upload_parms'))"
   ]
  }
 ],
 "metadata": {
  "kernelspec": {
   "display_name": "Python 3.11",
   "language": "python",
   "name": "python3"
  },
  "language_info": {
   "codemirror_mode": {
    "name": "ipython",
    "version": 3
   },
   "file_extension": ".py",
   "mimetype": "text/x-python",
   "name": "python",
   "nbconvert_exporter": "python",
   "pygments_lexer": "ipython3",
   "version": "3.11.11"
  }
 },
 "nbformat": 4,
 "nbformat_minor": 5
}
